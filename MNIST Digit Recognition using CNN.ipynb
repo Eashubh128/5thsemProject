{
 "cells": [
  {
   "cell_type": "code",
   "execution_count": 1,
   "id": "889e86b0",
   "metadata": {},
   "outputs": [],
   "source": [
    "# This is multiclass classification problem\n",
    "from keras.datasets import mnist\n",
    "dataset = mnist.load_data('mnist.db')"
   ]
  },
  {
   "cell_type": "code",
   "execution_count": 2,
   "id": "6d67f85d",
   "metadata": {},
   "outputs": [],
   "source": [
    "train, test = dataset"
   ]
  },
  {
   "cell_type": "code",
   "execution_count": 3,
   "id": "4d3e20a8",
   "metadata": {},
   "outputs": [],
   "source": [
    "X_train, y_train = train"
   ]
  },
  {
   "cell_type": "code",
   "execution_count": 4,
   "id": "57e60192",
   "metadata": {},
   "outputs": [],
   "source": [
    "X_test, y_test = test"
   ]
  },
  {
   "cell_type": "code",
   "execution_count": 5,
   "id": "d67fe7d5",
   "metadata": {},
   "outputs": [
    {
     "data": {
      "text/plain": [
       "60000"
      ]
     },
     "execution_count": 5,
     "metadata": {},
     "output_type": "execute_result"
    }
   ],
   "source": [
    "len(X_train)"
   ]
  },
  {
   "cell_type": "code",
   "execution_count": 6,
   "id": "fc4c2548",
   "metadata": {},
   "outputs": [
    {
     "data": {
      "text/plain": [
       "10000"
      ]
     },
     "execution_count": 6,
     "metadata": {},
     "output_type": "execute_result"
    }
   ],
   "source": [
    "len(X_test)"
   ]
  },
  {
   "cell_type": "code",
   "execution_count": 7,
   "id": "137f901c",
   "metadata": {},
   "outputs": [
    {
     "data": {
      "text/plain": [
       "array([[  0,   0,   0,   0,   0,   0,   0,   0,   0,   0,   0,   0,   0,\n",
       "          0,   0,   0,   0,   0,   0,   0,   0,   0,   0,   0,   0,   0,\n",
       "          0,   0],\n",
       "       [  0,   0,   0,   0,   0,   0,   0,   0,   0,   0,   0,   0,   0,\n",
       "          0,   0,   0,   0,   0,   0,   0,   0,   0,   0,   0,   0,   0,\n",
       "          0,   0],\n",
       "       [  0,   0,   0,   0,   0,   0,   0,   0,   0,   0,   0,   0,   0,\n",
       "          0,   0,   0,   0,   0,   0,   0,   0,   0,   0,   0,   0,   0,\n",
       "          0,   0],\n",
       "       [  0,   0,   0,   0,   0,   0,   0,   0,   0,   0,   0,   0,   0,\n",
       "          0,   0,   0,   0,   0,   0,   0,   0,   0,   0,   0,   0,   0,\n",
       "          0,   0],\n",
       "       [  0,   0,   0,   0,   0,   0,   0,   0,   0,   0,   0,   0,   0,\n",
       "          0,   0,   0,   0,   0,   0,   0,   0,   0,   0,   0,   0,   0,\n",
       "          0,   0],\n",
       "       [  0,   0,   0,   0,   0,   0,   0,   0,   0,   0,   0,   0,   3,\n",
       "         18,  18,  18, 126, 136, 175,  26, 166, 255, 247, 127,   0,   0,\n",
       "          0,   0],\n",
       "       [  0,   0,   0,   0,   0,   0,   0,   0,  30,  36,  94, 154, 170,\n",
       "        253, 253, 253, 253, 253, 225, 172, 253, 242, 195,  64,   0,   0,\n",
       "          0,   0],\n",
       "       [  0,   0,   0,   0,   0,   0,   0,  49, 238, 253, 253, 253, 253,\n",
       "        253, 253, 253, 253, 251,  93,  82,  82,  56,  39,   0,   0,   0,\n",
       "          0,   0],\n",
       "       [  0,   0,   0,   0,   0,   0,   0,  18, 219, 253, 253, 253, 253,\n",
       "        253, 198, 182, 247, 241,   0,   0,   0,   0,   0,   0,   0,   0,\n",
       "          0,   0],\n",
       "       [  0,   0,   0,   0,   0,   0,   0,   0,  80, 156, 107, 253, 253,\n",
       "        205,  11,   0,  43, 154,   0,   0,   0,   0,   0,   0,   0,   0,\n",
       "          0,   0],\n",
       "       [  0,   0,   0,   0,   0,   0,   0,   0,   0,  14,   1, 154, 253,\n",
       "         90,   0,   0,   0,   0,   0,   0,   0,   0,   0,   0,   0,   0,\n",
       "          0,   0],\n",
       "       [  0,   0,   0,   0,   0,   0,   0,   0,   0,   0,   0, 139, 253,\n",
       "        190,   2,   0,   0,   0,   0,   0,   0,   0,   0,   0,   0,   0,\n",
       "          0,   0],\n",
       "       [  0,   0,   0,   0,   0,   0,   0,   0,   0,   0,   0,  11, 190,\n",
       "        253,  70,   0,   0,   0,   0,   0,   0,   0,   0,   0,   0,   0,\n",
       "          0,   0],\n",
       "       [  0,   0,   0,   0,   0,   0,   0,   0,   0,   0,   0,   0,  35,\n",
       "        241, 225, 160, 108,   1,   0,   0,   0,   0,   0,   0,   0,   0,\n",
       "          0,   0],\n",
       "       [  0,   0,   0,   0,   0,   0,   0,   0,   0,   0,   0,   0,   0,\n",
       "         81, 240, 253, 253, 119,  25,   0,   0,   0,   0,   0,   0,   0,\n",
       "          0,   0],\n",
       "       [  0,   0,   0,   0,   0,   0,   0,   0,   0,   0,   0,   0,   0,\n",
       "          0,  45, 186, 253, 253, 150,  27,   0,   0,   0,   0,   0,   0,\n",
       "          0,   0],\n",
       "       [  0,   0,   0,   0,   0,   0,   0,   0,   0,   0,   0,   0,   0,\n",
       "          0,   0,  16,  93, 252, 253, 187,   0,   0,   0,   0,   0,   0,\n",
       "          0,   0],\n",
       "       [  0,   0,   0,   0,   0,   0,   0,   0,   0,   0,   0,   0,   0,\n",
       "          0,   0,   0,   0, 249, 253, 249,  64,   0,   0,   0,   0,   0,\n",
       "          0,   0],\n",
       "       [  0,   0,   0,   0,   0,   0,   0,   0,   0,   0,   0,   0,   0,\n",
       "          0,  46, 130, 183, 253, 253, 207,   2,   0,   0,   0,   0,   0,\n",
       "          0,   0],\n",
       "       [  0,   0,   0,   0,   0,   0,   0,   0,   0,   0,   0,   0,  39,\n",
       "        148, 229, 253, 253, 253, 250, 182,   0,   0,   0,   0,   0,   0,\n",
       "          0,   0],\n",
       "       [  0,   0,   0,   0,   0,   0,   0,   0,   0,   0,  24, 114, 221,\n",
       "        253, 253, 253, 253, 201,  78,   0,   0,   0,   0,   0,   0,   0,\n",
       "          0,   0],\n",
       "       [  0,   0,   0,   0,   0,   0,   0,   0,  23,  66, 213, 253, 253,\n",
       "        253, 253, 198,  81,   2,   0,   0,   0,   0,   0,   0,   0,   0,\n",
       "          0,   0],\n",
       "       [  0,   0,   0,   0,   0,   0,  18, 171, 219, 253, 253, 253, 253,\n",
       "        195,  80,   9,   0,   0,   0,   0,   0,   0,   0,   0,   0,   0,\n",
       "          0,   0],\n",
       "       [  0,   0,   0,   0,  55, 172, 226, 253, 253, 253, 253, 244, 133,\n",
       "         11,   0,   0,   0,   0,   0,   0,   0,   0,   0,   0,   0,   0,\n",
       "          0,   0],\n",
       "       [  0,   0,   0,   0, 136, 253, 253, 253, 212, 135, 132,  16,   0,\n",
       "          0,   0,   0,   0,   0,   0,   0,   0,   0,   0,   0,   0,   0,\n",
       "          0,   0],\n",
       "       [  0,   0,   0,   0,   0,   0,   0,   0,   0,   0,   0,   0,   0,\n",
       "          0,   0,   0,   0,   0,   0,   0,   0,   0,   0,   0,   0,   0,\n",
       "          0,   0],\n",
       "       [  0,   0,   0,   0,   0,   0,   0,   0,   0,   0,   0,   0,   0,\n",
       "          0,   0,   0,   0,   0,   0,   0,   0,   0,   0,   0,   0,   0,\n",
       "          0,   0],\n",
       "       [  0,   0,   0,   0,   0,   0,   0,   0,   0,   0,   0,   0,   0,\n",
       "          0,   0,   0,   0,   0,   0,   0,   0,   0,   0,   0,   0,   0,\n",
       "          0,   0]], dtype=uint8)"
      ]
     },
     "execution_count": 7,
     "metadata": {},
     "output_type": "execute_result"
    }
   ],
   "source": [
    "# 1st image\n",
    "X_train[0]"
   ]
  },
  {
   "cell_type": "code",
   "execution_count": 8,
   "id": "c2fbd0d7",
   "metadata": {},
   "outputs": [
    {
     "data": {
      "text/plain": [
       "(28, 28)"
      ]
     },
     "execution_count": 8,
     "metadata": {},
     "output_type": "execute_result"
    }
   ],
   "source": [
    "# Check shape \n",
    "X_train[0].shape"
   ]
  },
  {
   "cell_type": "code",
   "execution_count": 9,
   "id": "585f6def",
   "metadata": {},
   "outputs": [
    {
     "data": {
      "text/plain": [
       "<matplotlib.image.AxesImage at 0x1b198035ac8>"
      ]
     },
     "execution_count": 9,
     "metadata": {},
     "output_type": "execute_result"
    },
    {
     "data": {
      "image/png": "[encoded data removed]",
      "text/plain": [
       "<Figure size 432x288 with 1 Axes>"
      ]
     },
     "metadata": {
      "needs_background": "light"
     },
     "output_type": "display_data"
    }
   ],
   "source": [
    "# Visualize\n",
    "import matplotlib.pyplot as plt \n",
    "plt.imshow(X_train[0], cmap='gray')"
   ]
  },
  {
   "cell_type": "code",
   "execution_count": 10,
   "id": "847cf2c9",
   "metadata": {},
   "outputs": [
    {
     "name": "stdout",
     "output_type": "stream",
     "text": [
      "5\n"
     ]
    }
   ],
   "source": [
    "print(y_train[0])  # Actual label for above image"
   ]
  },
  {
   "cell_type": "code",
   "execution_count": 11,
   "id": "9c5e25e6",
   "metadata": {},
   "outputs": [
    {
     "data": {
      "text/plain": [
       "(60000, 28, 28)"
      ]
     },
     "execution_count": 11,
     "metadata": {},
     "output_type": "execute_result"
    }
   ],
   "source": [
    "# Convert 2D image to 1D \n",
    "X_train.shape\n",
    "# 60000 records of 2D 28 X 28 shape"
   ]
  },
  {
   "cell_type": "code",
   "execution_count": 12,
   "id": "a5c1a3fd",
   "metadata": {},
   "outputs": [],
   "source": [
    "# Reshaping training data\n",
    "X_train_1d = X_train.reshape(60000, 28*28) "
   ]
  },
  {
   "cell_type": "code",
   "execution_count": 13,
   "id": "d22f980e",
   "metadata": {},
   "outputs": [
    {
     "data": {
      "text/plain": [
       "(60000, 784)"
      ]
     },
     "execution_count": 13,
     "metadata": {},
     "output_type": "execute_result"
    }
   ],
   "source": [
    "X_train_1d.shape"
   ]
  },
  {
   "cell_type": "code",
   "execution_count": 14,
   "id": "e8defea0",
   "metadata": {},
   "outputs": [],
   "source": [
    "# reshaping test data\n",
    "X_test_1d = X_test.reshape(-1, 28*28) "
   ]
  },
  {
   "cell_type": "code",
   "execution_count": 15,
   "id": "a746dd8a",
   "metadata": {},
   "outputs": [
    {
     "data": {
      "text/plain": [
       "(10000, 784)"
      ]
     },
     "execution_count": 15,
     "metadata": {},
     "output_type": "execute_result"
    }
   ],
   "source": [
    "X_test_1d.shape"
   ]
  },
  {
   "cell_type": "code",
   "execution_count": 16,
   "id": "5b388296",
   "metadata": {},
   "outputs": [],
   "source": [
    "# convert target y to dummy variable \n",
    "from keras.utils.np_utils import to_categorical"
   ]
  },
  {
   "cell_type": "code",
   "execution_count": 17,
   "id": "bb69be37",
   "metadata": {},
   "outputs": [],
   "source": [
    "y_train_cat = to_categorical(y_train)"
   ]
  },
  {
   "cell_type": "code",
   "execution_count": 18,
   "id": "78a3d0d8",
   "metadata": {},
   "outputs": [
    {
     "data": {
      "text/plain": [
       "array([[0., 0., 0., ..., 0., 0., 0.],\n",
       "       [1., 0., 0., ..., 0., 0., 0.],\n",
       "       [0., 0., 0., ..., 0., 0., 0.],\n",
       "       ...,\n",
       "       [0., 0., 0., ..., 0., 0., 0.],\n",
       "       [0., 0., 0., ..., 0., 0., 0.],\n",
       "       [0., 0., 0., ..., 0., 1., 0.]], dtype=float32)"
      ]
     },
     "execution_count": 18,
     "metadata": {},
     "output_type": "execute_result"
    }
   ],
   "source": [
    "# 10 different classes 0 - 9. \n",
    "y_train_cat"
   ]
  },
  {
   "cell_type": "code",
   "execution_count": 19,
   "id": "5544841f",
   "metadata": {},
   "outputs": [],
   "source": [
    "# Creating model \n",
    "from keras.models import Sequential\n",
    "model = Sequential()"
   ]
  },
  {
   "cell_type": "code",
   "execution_count": 20,
   "id": "b57dbf7a",
   "metadata": {},
   "outputs": [],
   "source": [
    "from keras.layers import Dense"
   ]
  },
  {
   "cell_type": "code",
   "execution_count": 21,
   "id": "d4f8a76e",
   "metadata": {},
   "outputs": [],
   "source": [
    "model.add(\n",
    "    Dense(\n",
    "        units = 512, #\n",
    "        input_dim=28*28,\n",
    "        activation=\"relu\"\n",
    "    )\n",
    ")"
   ]
  },
  {
   "cell_type": "code",
   "execution_count": 22,
   "id": "2fe32ba6",
   "metadata": {},
   "outputs": [],
   "source": [
    "model.add(\n",
    "    Dense(\n",
    "        units=256, \n",
    "        activation=\"relu\"\n",
    "    )\n",
    ")"
   ]
  },
  {
   "cell_type": "code",
   "execution_count": 23,
   "id": "86535050",
   "metadata": {},
   "outputs": [],
   "source": [
    "model.add(\n",
    "    Dense(\n",
    "        units=128, \n",
    "        activation=\"relu\"\n",
    "    )\n",
    ")"
   ]
  },
  {
   "cell_type": "code",
   "execution_count": 24,
   "id": "6ddf36e1",
   "metadata": {},
   "outputs": [],
   "source": [
    "model.add(\n",
    "    Dense(\n",
    "        units=64, \n",
    "        activation=\"relu\"\n",
    "    )\n",
    ")"
   ]
  },
  {
   "cell_type": "code",
   "execution_count": 25,
   "id": "0832a04e",
   "metadata": {},
   "outputs": [],
   "source": [
    "model.add(\n",
    "    Dense(\n",
    "        units=32, \n",
    "        activation=\"relu\"\n",
    "    )\n",
    ")"
   ]
  },
  {
   "cell_type": "code",
   "execution_count": 26,
   "id": "f7bd989c",
   "metadata": {},
   "outputs": [],
   "source": [
    "model.add(\n",
    "    Dense(\n",
    "        units=16, \n",
    "        activation=\"relu\"\n",
    "    )\n",
    ")"
   ]
  },
  {
   "cell_type": "code",
   "execution_count": 27,
   "id": "06d8807b",
   "metadata": {},
   "outputs": [],
   "source": [
    "model.add(\n",
    "    Dense(\n",
    "        units=10, \n",
    "        activation=\"softmax\"\n",
    "    )\n",
    ")"
   ]
  },
  {
   "cell_type": "code",
   "execution_count": 28,
   "id": "c8906240",
   "metadata": {},
   "outputs": [],
   "source": [
    "# Compile Model \n",
    "from tensorflow.keras.optimizers import Adam\n",
    "model.compile(\n",
    "    optimizer=Adam(learning_rate=0.0005),\n",
    "    loss=\"categorical_crossentropy\",\n",
    "    metrics=[\"accuracy\"]\n",
    ")"
   ]
  },
  {
   "cell_type": "code",
   "execution_count": 29,
   "id": "b35e3662",
   "metadata": {},
   "outputs": [
    {
     "name": "stdout",
     "output_type": "stream",
     "text": [
      "Epoch 1/50\n",
      "1875/1875 [==============================] - 17s 8ms/step - loss: 0.5033 - accuracy: 0.8754\n",
      "Epoch 2/50\n",
      "1875/1875 [==============================] - 10s 6ms/step - loss: 0.1636 - accuracy: 0.9534\n",
      "Epoch 3/50\n",
      "1875/1875 [==============================] - 9s 5ms/step - loss: 0.1191 - accuracy: 0.9657\n",
      "Epoch 4/50\n",
      "1875/1875 [==============================] - 12s 6ms/step - loss: 0.0937 - accuracy: 0.9724\n",
      "Epoch 5/50\n",
      "1875/1875 [==============================] - 12s 6ms/step - loss: 0.0823 - accuracy: 0.9768\n",
      "Epoch 6/50\n",
      "1875/1875 [==============================] - 11s 6ms/step - loss: 0.0660 - accuracy: 0.9811\n",
      "Epoch 7/50\n",
      "1875/1875 [==============================] - 10s 5ms/step - loss: 0.0572 - accuracy: 0.9839\n",
      "Epoch 8/50\n",
      "1875/1875 [==============================] - 10s 5ms/step - loss: 0.0513 - accuracy: 0.9855\n",
      "Epoch 9/50\n",
      "1875/1875 [==============================] - 10s 5ms/step - loss: 0.0432 - accuracy: 0.9880\n",
      "Epoch 10/50\n",
      "1875/1875 [==============================] - 12s 6ms/step - loss: 0.0373 - accuracy: 0.9892\n",
      "Epoch 11/50\n",
      "1875/1875 [==============================] - 9s 5ms/step - loss: 0.0382 - accuracy: 0.9891\n",
      "Epoch 12/50\n",
      "1875/1875 [==============================] - 8s 4ms/step - loss: 0.0332 - accuracy: 0.9911\n",
      "Epoch 13/50\n",
      "1875/1875 [==============================] - 10s 6ms/step - loss: 0.0317 - accuracy: 0.9913\n",
      "Epoch 14/50\n",
      "1875/1875 [==============================] - 10s 5ms/step - loss: 0.0282 - accuracy: 0.9926\n",
      "Epoch 15/50\n",
      "1875/1875 [==============================] - 10s 6ms/step - loss: 0.0249 - accuracy: 0.9940\n",
      "Epoch 16/50\n",
      "1875/1875 [==============================] - 9s 5ms/step - loss: 0.0259 - accuracy: 0.9934\n",
      "Epoch 17/50\n",
      "1875/1875 [==============================] - 9s 5ms/step - loss: 0.0223 - accuracy: 0.9940\n",
      "Epoch 18/50\n",
      "1875/1875 [==============================] - 10s 5ms/step - loss: 0.0231 - accuracy: 0.9939\n",
      "Epoch 19/50\n",
      "1875/1875 [==============================] - 9s 5ms/step - loss: 0.0204 - accuracy: 0.9947\n",
      "Epoch 20/50\n",
      "1875/1875 [==============================] - 10s 5ms/step - loss: 0.0194 - accuracy: 0.9952\n",
      "Epoch 21/50\n",
      "1875/1875 [==============================] - 10s 5ms/step - loss: 0.0171 - accuracy: 0.9958\n",
      "Epoch 22/50\n",
      "1875/1875 [==============================] - 10s 5ms/step - loss: 0.0188 - accuracy: 0.9953\n",
      "Epoch 23/50\n",
      "1875/1875 [==============================] - 10s 5ms/step - loss: 0.0193 - accuracy: 0.9955\n",
      "Epoch 24/50\n",
      "1875/1875 [==============================] - 10s 5ms/step - loss: 0.0146 - accuracy: 0.9962\n",
      "Epoch 25/50\n",
      "1875/1875 [==============================] - 10s 5ms/step - loss: 0.0190 - accuracy: 0.9956\n",
      "Epoch 26/50\n",
      "1875/1875 [==============================] - 10s 5ms/step - loss: 0.0140 - accuracy: 0.9966\n",
      "Epoch 27/50\n",
      "1875/1875 [==============================] - 10s 5ms/step - loss: 0.0163 - accuracy: 0.9965\n",
      "Epoch 28/50\n",
      "1875/1875 [==============================] - 10s 5ms/step - loss: 0.0113 - accuracy: 0.9976\n",
      "Epoch 29/50\n",
      "1875/1875 [==============================] - 9s 5ms/step - loss: 0.0183 - accuracy: 0.9961\n",
      "Epoch 30/50\n",
      "1875/1875 [==============================] - 9s 5ms/step - loss: 0.0109 - accuracy: 0.9973\n",
      "Epoch 31/50\n",
      "1875/1875 [==============================] - 9s 5ms/step - loss: 0.0152 - accuracy: 0.9966\n",
      "Epoch 32/50\n",
      "1875/1875 [==============================] - 10s 5ms/step - loss: 0.0113 - accuracy: 0.9973\n",
      "Epoch 33/50\n",
      "1875/1875 [==============================] - 9s 5ms/step - loss: 0.0083 - accuracy: 0.9984\n",
      "Epoch 34/50\n",
      "1875/1875 [==============================] - 10s 5ms/step - loss: 0.0208 - accuracy: 0.9956\n",
      "Epoch 35/50\n",
      "1875/1875 [==============================] - 9s 5ms/step - loss: 0.0087 - accuracy: 0.9979\n",
      "Epoch 36/50\n",
      "1875/1875 [==============================] - 10s 5ms/step - loss: 0.0182 - accuracy: 0.9960\n",
      "Epoch 37/50\n",
      "1875/1875 [==============================] - 10s 5ms/step - loss: 0.0120 - accuracy: 0.9979\n",
      "Epoch 38/50\n",
      "1875/1875 [==============================] - 10s 5ms/step - loss: 0.0098 - accuracy: 0.9979\n",
      "Epoch 39/50\n",
      "1875/1875 [==============================] - 9s 5ms/step - loss: 0.0101 - accuracy: 0.9980\n",
      "Epoch 40/50\n",
      "1875/1875 [==============================] - 10s 5ms/step - loss: 0.0149 - accuracy: 0.9977\n",
      "Epoch 41/50\n",
      "1875/1875 [==============================] - 10s 5ms/step - loss: 0.0215 - accuracy: 0.9968\n",
      "Epoch 42/50\n",
      "1875/1875 [==============================] - 10s 5ms/step - loss: 0.0065 - accuracy: 0.9988\n",
      "Epoch 43/50\n",
      "1875/1875 [==============================] - 10s 5ms/step - loss: 0.0119 - accuracy: 0.9974\n",
      "Epoch 44/50\n",
      "1875/1875 [==============================] - 10s 5ms/step - loss: 0.0074 - accuracy: 0.9984\n",
      "Epoch 45/50\n",
      "1875/1875 [==============================] - 10s 5ms/step - loss: 0.0114 - accuracy: 0.9977\n",
      "Epoch 46/50\n",
      "1875/1875 [==============================] - 10s 5ms/step - loss: 0.0115 - accuracy: 0.9979\n",
      "Epoch 47/50\n",
      "1875/1875 [==============================] - 10s 5ms/step - loss: 0.0135 - accuracy: 0.9978\n",
      "Epoch 48/50\n",
      "1875/1875 [==============================] - 10s 5ms/step - loss: 0.0067 - accuracy: 0.9986\n",
      "Epoch 49/50\n",
      "1875/1875 [==============================] - 10s 6ms/step - loss: 0.0100 - accuracy: 0.9977\n",
      "Epoch 50/50\n",
      "1875/1875 [==============================] - 11s 6ms/step - loss: 0.0092 - accuracy: 0.9982\n"
     ]
    },
    {
     "data": {
      "text/plain": [
       "<keras.callbacks.History at 0x1b1a0389b00>"
      ]
     },
     "execution_count": 29,
     "metadata": {},
     "output_type": "execute_result"
    }
   ],
   "source": [
    "model.fit(X_train_1d, y_train_cat, epochs=50)"
   ]
  },
  {
   "cell_type": "code",
   "execution_count": 58,
   "id": "93ec41e8",
   "metadata": {},
   "outputs": [],
   "source": [
    "loss = model.history.history[\"loss\"]"
   ]
  },
  {
   "cell_type": "code",
   "execution_count": 59,
   "id": "fad9ef76",
   "metadata": {},
   "outputs": [
    {
     "data": {
      "text/plain": [
       "[<matplotlib.lines.Line2D at 0x2c758352278>]"
      ]
     },
     "execution_count": 59,
     "metadata": {},
     "output_type": "execute_result"
    },
    {
     "data": {
      "image/png": "[encoded data removed]",
      "text/plain": [
       "<Figure size 432x288 with 1 Axes>"
      ]
     },
     "metadata": {
      "needs_background": "light"
     },
     "output_type": "display_data"
    }
   ],
   "source": [
    "import matplotlib.pyplot as plt \n",
    "plt.plot(loss)"
   ]
  },
  {
   "cell_type": "code",
   "execution_count": 60,
   "id": "05a29f60",
   "metadata": {},
   "outputs": [
    {
     "data": {
      "text/plain": [
       "[<matplotlib.lines.Line2D at 0x2c7583b4710>]"
      ]
     },
     "execution_count": 60,
     "metadata": {},
     "output_type": "execute_result"
    },
    {
     "data": {
      "image/png": "[encoded data removed]",
      "text/plain": [
       "<Figure size 432x288 with 1 Axes>"
      ]
     },
     "metadata": {
      "needs_background": "light"
     },
     "output_type": "display_data"
    }
   ],
   "source": [
    "acc = model.history.history[\"accuracy\"]\n",
    "plt.plot(acc)"
   ]
  },
  {
   "cell_type": "code",
   "execution_count": 61,
   "id": "7ee57ee1",
   "metadata": {},
   "outputs": [],
   "source": [
    "model.save(\"mnist-acc-0.9991.h5\")"
   ]
  },
  {
   "cell_type": "code",
   "execution_count": 62,
   "id": "2d9ef9a8",
   "metadata": {},
   "outputs": [],
   "source": [
    "# Testing"
   ]
  },
  {
   "cell_type": "code",
   "execution_count": 63,
   "id": "0a9436e4",
   "metadata": {},
   "outputs": [],
   "source": [
    "imgTest = X_test[15]"
   ]
  },
  {
   "cell_type": "code",
   "execution_count": 64,
   "id": "643244a9",
   "metadata": {},
   "outputs": [
    {
     "data": {
      "text/plain": [
       "<matplotlib.image.AxesImage at 0x2c75841ab70>"
      ]
     },
     "execution_count": 64,
     "metadata": {},
     "output_type": "execute_result"
    },
    {
     "data": {
      "image/png": "[encoded data removed]",
      "text/plain": [
       "<Figure size 432x288 with 1 Axes>"
      ]
     },
     "metadata": {
      "needs_background": "light"
     },
     "output_type": "display_data"
    }
   ],
   "source": [
    "plt.imshow(imgTest)"
   ]
  },
  {
   "cell_type": "code",
   "execution_count": 65,
   "id": "de16cdf6",
   "metadata": {},
   "outputs": [],
   "source": [
    "sample = imgTest.reshape(1, 28*28)\n",
    "pred = model.predict(sample)"
   ]
  },
  {
   "cell_type": "code",
   "execution_count": 66,
   "id": "c1442c75",
   "metadata": {},
   "outputs": [
    {
     "data": {
      "text/plain": [
       "array([[7.1156241e-20, 6.6507418e-25, 3.5889218e-21, 1.1709591e-12,\n",
       "        6.7707295e-38, 1.0000000e+00, 1.1876943e-12, 3.8703305e-23,\n",
       "        5.5292390e-12, 7.3533041e-11]], dtype=float32)"
      ]
     },
     "execution_count": 66,
     "metadata": {},
     "output_type": "execute_result"
    }
   ],
   "source": [
    "pred"
   ]
  },
  {
   "cell_type": "code",
   "execution_count": 67,
   "id": "8e5ca1d9",
   "metadata": {},
   "outputs": [],
   "source": [
    "import numpy as np \n",
    "max_val = np.amax(pred)"
   ]
  },
  {
   "cell_type": "code",
   "execution_count": 68,
   "id": "f60f2055",
   "metadata": {},
   "outputs": [
    {
     "data": {
      "text/plain": [
       "array([5], dtype=int64)"
      ]
     },
     "execution_count": 68,
     "metadata": {},
     "output_type": "execute_result"
    }
   ],
   "source": [
    "result = np.where(pred == np.amax(pred))\n",
    "max(result)"
   ]
  },
  {
   "cell_type": "code",
   "execution_count": 69,
   "id": "51070814",
   "metadata": {},
   "outputs": [],
   "source": [
    "model_predictions = model.predict(X_test_1d)"
   ]
  },
  {
   "cell_type": "code",
   "execution_count": 70,
   "id": "886a5fcf",
   "metadata": {},
   "outputs": [],
   "source": [
    "result = np.where(model_predictions == np.amax(model_predictions))"
   ]
  },
  {
   "cell_type": "code",
   "execution_count": 71,
   "id": "79a5af42",
   "metadata": {},
   "outputs": [],
   "source": [
    "index = result[1]"
   ]
  },
  {
   "cell_type": "code",
   "execution_count": 72,
   "id": "66aeb149",
   "metadata": {},
   "outputs": [
    {
     "data": {
      "text/plain": [
       "array([7, 2, 1, ..., 4, 5, 6], dtype=int64)"
      ]
     },
     "execution_count": 72,
     "metadata": {},
     "output_type": "execute_result"
    }
   ],
   "source": [
    "index #Predictions"
   ]
  },
  {
   "cell_type": "code",
   "execution_count": 73,
   "id": "5ba4755e",
   "metadata": {},
   "outputs": [
    {
     "data": {
      "text/plain": [
       "array([7, 2, 1, ..., 4, 5, 6], dtype=uint8)"
      ]
     },
     "execution_count": 73,
     "metadata": {},
     "output_type": "execute_result"
    }
   ],
   "source": [
    "y_test # actual answers"
   ]
  },
  {
   "cell_type": "code",
   "execution_count": null,
   "id": "57e938fb",
   "metadata": {},
   "outputs": [],
   "source": []
  },
  {
   "cell_type": "code",
   "execution_count": null,
   "id": "9b9a1492",
   "metadata": {},
   "outputs": [],
   "source": []
  },
  {
   "cell_type": "code",
   "execution_count": null,
   "id": "169c4b66",
   "metadata": {},
   "outputs": [],
   "source": []
  }
 ],
 "metadata": {
  "kernelspec": {
   "display_name": "Python 3",
   "language": "python",
   "name": "python3"
  },
  "language_info": {
   "codemirror_mode": {
    "name": "ipython",
    "version": 3
   },
   "file_extension": ".py",
   "mimetype": "text/x-python",
   "name": "python",
   "nbconvert_exporter": "python",
   "pygments_lexer": "ipython3",
   "version": "3.6.4"
  }
 },
 "nbformat": 4,
 "nbformat_minor": 5
}
